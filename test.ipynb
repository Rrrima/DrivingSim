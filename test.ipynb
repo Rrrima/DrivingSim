{
 "cells": [
  {
   "cell_type": "code",
   "execution_count": 1,
   "metadata": {},
   "outputs": [],
   "source": [
    "import pandas as pd\n",
    "import matplotlib.pyplot as plt\n",
    "import numpy as np\n",
    "pd.set_option('display.max_columns', 500)\n",
    "pd.options.display.max_rows = 999\n",
    "from Subject import Subject"
   ]
  },
  {
   "cell_type": "code",
   "execution_count": 2,
   "metadata": {},
   "outputs": [],
   "source": [
    "meta_data = pd.read_csv('meta.csv')"
   ]
  },
  {
   "cell_type": "code",
   "execution_count": 3,
   "metadata": {},
   "outputs": [],
   "source": [
    "# number of participants\n",
    "# num = 107\n",
    "# btots = []\n",
    "# stots = []\n",
    "# gtots = []\n",
    "# tots = []\n",
    "# ttcs = []\n",
    "# for i in range(num):\n",
    "#     sub_id = i+1\n",
    "#     print(\"create subject {}\".format(sub_id))\n",
    "#     sub = Subject('workload',sub_id,meta_data)\n",
    "#     if sub_id%2 ==0:\n",
    "#         eid = 7\n",
    "#     else:\n",
    "#         eid = 0\n",
    "#     print(\"    get event data {}\".format(eid))\n",
    "#     tt = sub.query_by_event(eid)\n",
    "#     tot_dict = tt.calculate_tot_time()\n",
    "#     b,s,g,t = tot_dict.values()\n",
    "#     btots.append(b)\n",
    "#     stots.append(s)\n",
    "#     gtots.append(g)\n",
    "#     tots.append(t)\n",
    "#     ttcs.append(tt.ttc)"
   ]
  },
  {
   "cell_type": "code",
   "execution_count": 4,
   "metadata": {},
   "outputs": [],
   "source": [
    "sub = Subject('workload',17,meta_data)"
   ]
  },
  {
   "cell_type": "code",
   "execution_count": 11,
   "metadata": {},
   "outputs": [],
   "source": [
    "tt = sub.query_by_event(4)"
   ]
  },
  {
   "cell_type": "code",
   "execution_count": 12,
   "metadata": {},
   "outputs": [
    {
     "data": {
      "text/plain": [
       "'car_ahead_lc'"
      ]
     },
     "execution_count": 12,
     "metadata": {},
     "output_type": "execute_result"
    }
   ],
   "source": [
    "tt.scenario"
   ]
  },
  {
   "cell_type": "code",
   "execution_count": 30,
   "metadata": {},
   "outputs": [],
   "source": [
    "x1 = tt.x - tt.car_y"
   ]
  },
  {
   "cell_type": "code",
   "execution_count": 31,
   "metadata": {},
   "outputs": [],
   "source": [
    "x2 = tt.headdistance"
   ]
  },
  {
   "cell_type": "code",
   "execution_count": 32,
   "metadata": {},
   "outputs": [
    {
     "data": {
      "text/plain": [
       "[<matplotlib.lines.Line2D at 0x7fb78c170730>]"
      ]
     },
     "execution_count": 32,
     "metadata": {},
     "output_type": "execute_result"
    },
    {
     "data": {
      "image/png": "[encoded data removed]",
      "text/plain": [
       "<Figure size 432x288 with 1 Axes>"
      ]
     },
     "metadata": {
      "needs_background": "light"
     },
     "output_type": "display_data"
    }
   ],
   "source": [
    "plt.plot(x1,x2)"
   ]
  },
  {
   "cell_type": "code",
   "execution_count": null,
   "metadata": {},
   "outputs": [],
   "source": []
  }
 ],
 "metadata": {
  "kernelspec": {
   "display_name": "Python 3",
   "language": "python",
   "name": "python3"
  },
  "language_info": {
   "codemirror_mode": {
    "name": "ipython",
    "version": 3
   },
   "file_extension": ".py",
   "mimetype": "text/x-python",
   "name": "python",
   "nbconvert_exporter": "python",
   "pygments_lexer": "ipython3",
   "version": "3.8.3"
  }
 },
 "nbformat": 4,
 "nbformat_minor": 4
}
